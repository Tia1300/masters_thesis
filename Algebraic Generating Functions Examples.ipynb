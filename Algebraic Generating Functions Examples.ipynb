{
 "cells": [
  {
   "cell_type": "markdown",
   "id": "e65fda66-0797-4cf0-9455-f5703b2c3352",
   "metadata": {},
   "source": [
    "# Asymptotics of Algebraic Generating Functions\n",
    "This is a companion notebook for Chapter 4 of the thesis, modified from the upcoming paper, Asymptotics of multivariate algebraic generating functions, by Torin Greenwood, Stephen Melczer, Tiadora Ruza and Mark Wilson. \n",
    "\n",
    "This notebook provides functions to allow one to compute a embeddings of an algebraic generating function as the diagonal of a rational generating function using either Denef & Lipshitz embedding method or Safonov's algorithm. As well, this notebook provides code related to the examples found in Chapter 4 of the thesis. These serve both as a companion and as informative results."
   ]
  },
  {
   "cell_type": "code",
   "execution_count": 185,
   "id": "f351a9c7-9d2d-4aa2-8f1d-15c9478ecc1e",
   "metadata": {},
   "outputs": [
    {
     "data": {
      "text/plain": [
       "(p1, q2, p3, q1, q2, p2, q3)"
      ]
     },
     "execution_count": 185,
     "metadata": {},
     "output_type": "execute_result"
    }
   ],
   "source": [
    "# Define variables and parameters\n",
    "var('x', 'y', 'z', 'Y')\n",
    "var('p1', 'q2', 'p3', 'q1', 'q2', 'p2', 'q3')"
   ]
  },
  {
   "cell_type": "markdown",
   "id": "09558290-8590-450a-925e-804b37ad7b03",
   "metadata": {},
   "source": [
    "## Code for Denef & Lipshitz Method"
   ]
  },
  {
   "cell_type": "code",
   "execution_count": 186,
   "id": "cbf8d907-4a7c-4320-bc8a-9ac00707e795",
   "metadata": {},
   "outputs": [],
   "source": [
    "def embed_algebraic_DL(P, Q, W, Y=None, params=[]):\n",
    "    r\"\"\"Function to embed a d-variable algebraic series f(x) as a diagonal of a (d+1)-variable\n",
    "    rational function R(x,Y). Requires specific input whose existence is guaranteed by results of\n",
    "    Denef and Lipshitz.\n",
    "\n",
    "    INPUT:\n",
    "\n",
    "    * ``P``      -- Polynomial in QQ[x,Y] such that P(x,f(x)) = 0.\n",
    "    * ``Q``      -- Polynomial in QQ[x,Y] such that Q(0,0) = 0 and Q_Y(0,0) != 0.\n",
    "    * ``W``      -- Rational function in QQ(x,Y) such that W(x,phi(x)) = f(x) for a power series phi(x)\n",
    "                    vanishing at the origin such that Q(x,phi(x))=0.\n",
    "    * ``Y``      -- (Optional) The variable of P(x,Y) for which Y = f(x) is a root. By default, \n",
    "                    the final variable returned by P.variables().\n",
    "    * ``params`` -- (Optional) List of symbolic variables appearing in P that are considered parameters, \n",
    "                    meaning they remain after coefficient extraction.\n",
    "\n",
    "    OUTPUT:\n",
    "\n",
    "    A (d+1)-variable rational function R(x,Y) such that [x^r]f(x) = [x^rY^|r|]R(x,Y) for all r in N^d,\n",
    "    where |r| = r_1 + ... + r_d. Returns error if P, Q, and W do not satisfy the required conditions.\n",
    "\n",
    "    NOTE: The code verifies that W(x,phi(x)) = r(x) for some r with P(x,r(x)) = 0 but does not verify\n",
    "    that r(x) is the specific root f(x) of P. An optional argument to check this will be added later.\n",
    "    \"\"\"\n",
    "\n",
    "    ########################################################\n",
    "    # Set variables and verify assumptions on P, Q, and W\n",
    "    ########################################################\n",
    "    P_variables = [v for v in P.variables() if not v in params]\n",
    "    Q_variables = [v for v in Q.variables() if not v in params]\n",
    "    W_variables = [v for v in W.variables() if not v in params]\n",
    "\n",
    "    if len(P_variables) == 0:\n",
    "        raise ValueError(\"No non-parameter variables of P detected.\")\n",
    "        \n",
    "    if not (set(Q_variables) | set(W_variables)).issubset(set(P_variables)):\n",
    "        raise ValueError(\"Q and W have variables not found in P.\")\n",
    "    \n",
    "    if Y == None:\n",
    "        local_Y = P_variables[-1]\n",
    "    else:\n",
    "        local_Y = Y\n",
    "\n",
    "    if  local_Y not in P_variables:\n",
    "        raise ValueError(\"Y is not a (non-parameter) variable of P.\")\n",
    "\n",
    "    sub = [k==0 for k in P_variables]\n",
    "    if Q.subs(sub).expand() != 0:\n",
    "        raise ValueError(\"Q does not vanish at the origin.\")\n",
    "    if Q.diff(local_Y).subs(sub).expand() == 0:\n",
    "        raise ValueError(\"Q_Y vanishes at the origin.\")\n",
    "\n",
    "    if (P.subs(local_Y==W).numerator()).resultant(Q, local_Y) != 0:\n",
    "        raise ValueError(\"Y = W(x,phi(x)) is not a root of P(x,Y).\")\n",
    "\n",
    "    ########################################################\n",
    "    # Compute and return rational function R(x,Y)\n",
    "    ########################################################\n",
    "    R = local_Y * diff(Q,local_Y) * W / Q\n",
    "    R = R.subs({v:v*local_Y for v in P_variables if not v == local_Y})\n",
    "    return(R.factor())"
   ]
  },
  {
   "cell_type": "markdown",
   "id": "241c7054-cf49-41e5-bc91-cbf9a4ca6251",
   "metadata": {},
   "source": [
    "## Code for Safonov's Algorithm"
   ]
  },
  {
   "cell_type": "code",
   "execution_count": 187,
   "id": "f71472b7-a929-4553-963c-5d33d73d44cc",
   "metadata": {},
   "outputs": [],
   "source": [
    "def lowest_degree_terms(pol, params=[]):\n",
    "    \"\"\"\n",
    "    Find the order of vanishing and terms with lowest degree in a multivariate polynomial.\n",
    "\n",
    "    INPUT:\n",
    "\n",
    "    * ``pol``    -- A polynomial.\n",
    "    * ``params`` -- (Optional) List of symbolic variables appearing in pol that are considered parameters.\n",
    "\n",
    "    OUTPUT:\n",
    "\n",
    "    A tuple containing the order of vanishing of pol and its terms with lowest degree.\n",
    "    \"\"\"\n",
    "    pol_symbolic    = SR(str(pol))\n",
    "    params_symbolic = [SR(v) for v in params]\n",
    "    pol_variables   = [v for v in pol_symbolic.variables() if not v in params_symbolic]\n",
    "    \n",
    "    # If constant return the constant -- includes the case pol = 0\n",
    "    if len(pol_variables) == 0:\n",
    "        return 0, pol_symbolic\n",
    "\n",
    "    # Otherwise \n",
    "    pol_power_series = PowerSeriesRing(PolynomialRing(QQ,names=params_symbolic), names=pol_variables)(pol_symbolic) \n",
    "    mu = pol_power_series.valuation()\n",
    "\n",
    "    # Univariate power series return coefficients not monomials -- check which case we are in\n",
    "    ps_variables = parent(pol_power_series).gens()\n",
    "    if len(ps_variables) == 1: \n",
    "        return mu, SR(pol_power_series[mu]*ps_variables[0]^mu)\n",
    "    else:\n",
    "        return mu, SR(pol_power_series[mu])"
   ]
  },
  {
   "cell_type": "code",
   "execution_count": 188,
   "id": "fd661b99-d15d-45fa-b437-e8f2cef8f2b1",
   "metadata": {},
   "outputs": [],
   "source": [
    "def lowest_residue_terms(P, terms, Y=None, params=[]):\n",
    "    \"\"\"\n",
    "    Find the order of vanishing and terms with lowest degree in a multivariate polynomial.\n",
    "\n",
    "    INPUT:\n",
    "\n",
    "    * ``P``        -- Polynomial P(Y,x) where P(Y,x) = (Y-u(x))G(Y,x) with u(x) \n",
    "                      a simple root of P (meaning G(u(x),x) not identically zero) \n",
    "    * ``terms``    -- A function that takes a natural number n and returns the series terms of u(x) up to order n\n",
    "    * ``Y``        -- (Optional) The variable of P(x,Y) for which Y = u(x) is a root. By default, \n",
    "                      the final variable returned by P.variables().\n",
    "    * ``params``   -- (Optional) List of symbolic variables appearing in P that are considered parameters, \n",
    "                      meaning they remain after coefficient extraction.\n",
    "    * ``Safonov``  -- (Optional) Boolean that, if True, also returns the expansion of G(u(x),x) to order q = mu(nu+1)/2\n",
    "                      to be used in the Safonov embedding algorithm.\n",
    "\n",
    "    OUTPUT:\n",
    "\n",
    "    The degree mu to which G(u(x),x) vanishes at the origin and the sum of terms in G(u(x),x) of degree mu.\n",
    "    \"\"\"\n",
    "    # Define variables and ring\n",
    "    P_variables = [v for v in P.variables() if v not in params]\n",
    "    R = PolynomialRing(PolynomialRing(QQ,names=params).fraction_field(), names = P_variables)\n",
    "\n",
    "    if len(P_variables) == 0:\n",
    "        raise ValueError(\"No non-parameter variables of P detected.\")\n",
    "    \n",
    "    if Y == None:\n",
    "        local_Y = P_variables[-1]\n",
    "    else:\n",
    "        local_Y = Y\n",
    "\n",
    "    if  local_Y not in P_variables:\n",
    "        raise ValueError(\"Y is not a (non-parameter) variable of P.\")\n",
    "\n",
    "    P_x_variables = [v for v in P_variables if not v == local_Y]\n",
    "\n",
    "    P_derivative = P.diff(local_Y)\n",
    "    N = 0\n",
    "    G_series = P_derivative.subs(Y==terms(N)).taylor(P_x_variables,0,N)\n",
    "    while G_series == 0:\n",
    "        N = N + 1\n",
    "        G_series = P_derivative.subs(Y==terms(N)).taylor(P_x_variables,0,N)\n",
    "    return lowest_degree_terms(G_series)"
   ]
  },
  {
   "cell_type": "code",
   "execution_count": 189,
   "id": "8a491f7e-7be9-43b4-adb9-9674b0ec39c4",
   "metadata": {},
   "outputs": [],
   "source": [
    "def update_M_matrix(M, a, i, mu):\n",
    "    \"\"\"\n",
    "    Update the matrix 'M' of linear maps and the vector 'a' of changes that occur with the Safonov embedding algorithm.\n",
    "\n",
    "    INPUT:\n",
    "\n",
    "    * ``M``   -- A (dxd) integer matrix.\n",
    "    * ``a``   -- A length d integer vector.\n",
    "    * ``i``   -- Integer between 1 and d representing the index of the variable updated in Safonov's algorithm.\n",
    "    * ``mu``  -- The \"order of vanishing\" computed in Safonov's algorithm.\n",
    "\n",
    "    OUTPUT:\n",
    "\n",
    "    The matrix M and vector a updated to reflect the change of variable made in Safonov's algorithm.\n",
    "    \"\"\"\n",
    "    d = M.dimensions()[0]\n",
    "    M_matrix_update = matrix(ZZ, d, d)\n",
    "    \n",
    "    for k in [0..d-1]:\n",
    "        for j in [0..d-1]:\n",
    "            if ((j == i) | (k == j)):\n",
    "                M_matrix_update[k,j] = 1\n",
    "            else:\n",
    "                M_matrix_update[k,j] = 0\n",
    "                \n",
    "    new_a = a*M_matrix_update\n",
    "    new_a[0,i] = new_a[0,i] + mu\n",
    "    return M*M_matrix_update, new_a"
   ]
  },
  {
   "cell_type": "code",
   "execution_count": 190,
   "id": "6a577191-034d-450c-a97b-929f49c5d030",
   "metadata": {},
   "outputs": [],
   "source": [
    "def embed_algebraic_Safonov(P, terms, Y=None, params=[]):\n",
    "    r\"\"\"Function to embed a d-variable algebraic series f(x) as an \"M-diagonal\" of a (d+1)-variable\n",
    "    rational function R(x,Y) following an algorithm of Safonov.\n",
    "\n",
    "    INPUT:\n",
    "\n",
    "    * ``P``      -- Polynomial in QQ[x,Y] such that P(x,f(x)) = 0.\n",
    "    * ``terms``  -- A function that takes a natural number n and returns the series terms of u(x) up to order n\n",
    "    * ``Y``      -- (Optional) The variable of P(x,Y) for which Y = f(x) is a root. By default, \n",
    "                    the final variable returned by P.variables().\n",
    "    * ``params`` -- (Optional) List of symbolic variables appearing in P that are considered parameters, \n",
    "                    meaning they remain after coefficient extraction.\n",
    "\n",
    "    OUTPUT:\n",
    "\n",
    "    A (d+1)-variable rational function R(x,Y) and (dxd) matrix M such that [x^r]f(x) = [x^rY^|Mr|]R(x,Y) \n",
    "    for all r in N^d, where |r| = r_1 + ... + r_d. \n",
    "    \"\"\"\n",
    "\n",
    "    ########################################################\n",
    "    # Set variables and perform basic setup\n",
    "    ########################################################\n",
    "    P_variables = [v for v in P.variables() if not v in params]\n",
    "\n",
    "    if len(P_variables) == 0:\n",
    "        raise ValueError(\"No non-parameter variables of P detected.\")\n",
    "            \n",
    "    if Y == None:\n",
    "        local_Y = P_variables[-1]\n",
    "    else:\n",
    "        local_Y = Y\n",
    "\n",
    "    if  local_Y not in P_variables:\n",
    "        raise ValueError(\"Y is not a (non-parameter) variable of P.\")\n",
    "\n",
    "    P_x_variables = [v for v in P_variables if not v == local_Y]\n",
    "    P_variables = P_x_variables + [local_Y]\n",
    "    \n",
    "    P_square_free = prod([f for (f,_) in P.factor_list()])\n",
    "    P_derivative = P_square_free.diff(local_Y)\n",
    "\n",
    "    ########################################################\n",
    "    # Run main algorithm\n",
    "    ########################################################\n",
    "    # Write P(Y,x) = (y-f(x))G(Y,x) where G(f(x),x) is not identically zero\n",
    "    # Compute order of vanishing and lowest order terms of G(f(x),x)\n",
    "    mu, lowest_terms = lowest_residue_terms(P, terms, Y=local_Y, params=params)\n",
    "    q = (mu*(mu+1))/2\n",
    "\n",
    "    # Compute f(x) to appropriate accuracy then make a substition into P\n",
    "    Sq = terms(q) \n",
    "    P_square_free = P_square_free.subs(Y == Y + Sq)\n",
    "    P_derivative = P_derivative.subs(Y == Y + Sq)\n",
    "\n",
    "    # Define matrix M and vector a\n",
    "    d = len(P_x_variables)\n",
    "    M = matrix.identity(d)\n",
    "    a = matrix(1, d)\n",
    "\n",
    "    R_ring = PolynomialRing(PolynomialRing(QQ, names= params), names = P_x_variables)\n",
    "    R_ring_Y = PolynomialRing(PolynomialRing(QQ, names= params), names = P_variables)\n",
    "    lowest_terms_poly = R_ring(str(lowest_terms))\n",
    "\n",
    "\n",
    "    while (mu != 0):\n",
    "        # Find variable zeta of maximum degree in lowest_terms \n",
    "        max_degree = max([max(e) for e in lowest_terms_poly.exponents()])\n",
    "        zeta = list(filter(lambda v: lowest_terms_poly.degree(R_ring(v)) == max_degree, P_x_variables))[0]\n",
    "\n",
    "        # Define and make monomial substitution with zeta\n",
    "        sbs = [Y == Y*zeta^mu] + [v == v*zeta for v in P_x_variables if str(v) != str(zeta)]\n",
    "        P_square_free = P_square_free.subs(sbs)\n",
    "        P_derivative = P_derivative.subs(sbs)\n",
    "        Sq = SR(Sq).subs(sbs)\n",
    "\n",
    "        # Update M matrix and a vector with substition\n",
    "        M, a = update_M_matrix(M, a, P_x_variables.index(zeta), mu)\n",
    "\n",
    "        # Factor out power of zeta\n",
    "        P_derivative = (P_derivative/(zeta^mu)).simplify_full()       \n",
    "        P_square_free_poly = R_ring_Y(P_square_free)\n",
    "        zeta_valuation = min([m.degree(R_ring_Y(zeta)) for m in P_square_free_poly.monomials()])\n",
    "        P_square_free = (P_square_free/(zeta^zeta_valuation)).simplify_full()\n",
    "        \n",
    "        # Find new value of mu\n",
    "        mu, lowest_terms = lowest_degree_terms(P_derivative.subs(Y==0), params=[])\n",
    "        lowest_terms_poly = R_ring(str(lowest_terms))\n",
    "\n",
    "    # if required, subtract off constant\n",
    "    sbs = [v == 0 for v in P_variables]\n",
    "    if P_square_free.taylor(P_variables, 0, 0).subs(sbs) != 0:\n",
    "        P_square_free = P_square_free - P_square_free.taylor(P_variables, 0, 0).subs(sbs)\n",
    "\n",
    "    # Return embedding, matrix which gives diagonal correspondance and vector\n",
    "    subs = [v == v*Y for v in P_x_variables]\n",
    "    leading_product = prod([P_x_variables[i]^a[0,i] for i in range(d)])\n",
    "    R = ((leading_product*((Y^2*diff(P_square_free,Y))/P_square_free)+Sq).subs(subs)).simplify_full()\n",
    "    return R, M.transpose()"
   ]
  },
  {
   "cell_type": "code",
   "execution_count": null,
   "id": "2a2d9dd5-61bd-4c91-b257-3747355033fe",
   "metadata": {},
   "outputs": [],
   "source": []
  },
  {
   "cell_type": "markdown",
   "id": "f2259def-0235-4c6a-9827-eb6d01087137",
   "metadata": {},
   "source": [
    "### Example 62."
   ]
  },
  {
   "cell_type": "code",
   "execution_count": 191,
   "id": "85609f29-0ef9-4b08-937b-352503e0bdcd",
   "metadata": {},
   "outputs": [],
   "source": [
    "f = x*sqrt(1-x-y)\n",
    "P = Y^2 - x^2*(1-x-y)\n",
    "Q = (1-Y)^2-(1-x-y)\n",
    "W = x*(1-Y)"
   ]
  },
  {
   "cell_type": "code",
   "execution_count": 192,
   "id": "e4ccaea2-ecfb-4fc5-b9f1-ecd0cdebf79f",
   "metadata": {},
   "outputs": [
    {
     "data": {
      "text/html": [
       "<html>\\(\\displaystyle \\verb|Denef|\\verb| |\\verb|&|\\verb| |\\verb|Lipshitz|\\verb| |\\verb|Embedding:| -\\frac{2 \\, {\\left(Y - 1\\right)}^{2} Y x}{Y + x + y - 2}\\)</html>"
      ],
      "text/latex": [
       "$\\displaystyle \\verb|Denef|\\verb| |\\verb|&|\\verb| |\\verb|Lipshitz|\\verb| |\\verb|Embedding:| -\\frac{2 \\, {\\left(Y - 1\\right)}^{2} Y x}{Y + x + y - 2}$"
      ],
      "text/plain": [
       "'Denef & Lipshitz Embedding: ' -2*(Y - 1)^2*Y*x/(Y + x + y - 2)"
      ]
     },
     "metadata": {},
     "output_type": "display_data"
    }
   ],
   "source": [
    "ratDL = embed_algebraic_DL(P, Q=Q, W=W, Y=Y)\n",
    "show(\"Denef & Lipshitz Embedding: \", ratDL)"
   ]
  },
  {
   "cell_type": "code",
   "execution_count": 193,
   "id": "95454cfc-afd5-4943-8abc-82f81056629d",
   "metadata": {},
   "outputs": [],
   "source": [
    "g = x/sqrt(1-x-y)\n",
    "P = Y^2*(1-x-y) - x^2\n",
    "Q = (1-Y)^2-(1-x-y)\n",
    "W = x/(1-Y)"
   ]
  },
  {
   "cell_type": "code",
   "execution_count": 194,
   "id": "bbad7fee-735f-4a27-8862-62f5240c85d7",
   "metadata": {},
   "outputs": [
    {
     "data": {
      "text/html": [
       "<html>\\(\\displaystyle \\verb|Denef|\\verb| |\\verb|&|\\verb| |\\verb|Lipshitz|\\verb| |\\verb|Embedding:| -\\frac{2 \\, Y x}{Y + x + y - 2}\\)</html>"
      ],
      "text/latex": [
       "$\\displaystyle \\verb|Denef|\\verb| |\\verb|&|\\verb| |\\verb|Lipshitz|\\verb| |\\verb|Embedding:| -\\frac{2 \\, Y x}{Y + x + y - 2}$"
      ],
      "text/plain": [
       "'Denef & Lipshitz Embedding: ' -2*Y*x/(Y + x + y - 2)"
      ]
     },
     "metadata": {},
     "output_type": "display_data"
    }
   ],
   "source": [
    "ratDL = embed_algebraic_DL(P, Q=Q, W=W, Y=Y)\n",
    "show(\"Denef & Lipshitz Embedding: \", ratDL)"
   ]
  },
  {
   "cell_type": "code",
   "execution_count": null,
   "id": "730aa2c6-1ce0-4da2-9ab7-bab7f6b45a4a",
   "metadata": {},
   "outputs": [],
   "source": []
  },
  {
   "cell_type": "markdown",
   "id": "9fa10ecf-da07-4307-b0d0-eea23d0557ea",
   "metadata": {},
   "source": [
    "### Example 63."
   ]
  },
  {
   "cell_type": "code",
   "execution_count": 195,
   "id": "c048900f-0288-4aca-9a38-48076baa2762",
   "metadata": {},
   "outputs": [],
   "source": [
    "f = (1-sqrt(1-4*x))/(2*x)\n",
    "P = Y^2*x-Y+1\n",
    "Q = Y^2*x+2*Y*x-Y+x\n",
    "W = Y+1"
   ]
  },
  {
   "cell_type": "code",
   "execution_count": 196,
   "id": "46ea293d-de16-4356-9ae7-7208883a8e6c",
   "metadata": {},
   "outputs": [
    {
     "data": {
      "text/html": [
       "<html>\\(\\displaystyle \\verb|Denef|\\verb| |\\verb|&|\\verb| |\\verb|Lipshitz|\\verb| |\\verb|Embedding:| \\frac{{\\left(2 \\, Y^{2} x + 2 \\, Y x - 1\\right)} {\\left(Y + 1\\right)}}{Y^{2} x + 2 \\, Y x + x - 1}\\)</html>"
      ],
      "text/latex": [
       "$\\displaystyle \\verb|Denef|\\verb| |\\verb|&|\\verb| |\\verb|Lipshitz|\\verb| |\\verb|Embedding:| \\frac{{\\left(2 \\, Y^{2} x + 2 \\, Y x - 1\\right)} {\\left(Y + 1\\right)}}{Y^{2} x + 2 \\, Y x + x - 1}$"
      ],
      "text/plain": [
       "'Denef & Lipshitz Embedding: ' (2*Y^2*x + 2*Y*x - 1)*(Y + 1)/(Y^2*x + 2*Y*x + x - 1)"
      ]
     },
     "metadata": {},
     "output_type": "display_data"
    }
   ],
   "source": [
    "ratDL = embed_algebraic_DL(P, Q=Q, W=W, Y=Y)\n",
    "show(\"Denef & Lipshitz Embedding: \", ratDL)"
   ]
  },
  {
   "cell_type": "code",
   "execution_count": 197,
   "id": "9e70ada2-a49b-4952-ba6f-a5eb10055a07",
   "metadata": {},
   "outputs": [],
   "source": [
    "Q = Y^2-2*x*Y+x^2+Y\n",
    "W = -Y/x+1"
   ]
  },
  {
   "cell_type": "code",
   "execution_count": 198,
   "id": "2d60f48f-ee9e-4d72-911e-eb7f9974b23d",
   "metadata": {},
   "outputs": [
    {
     "data": {
      "text/html": [
       "<html>\\(\\displaystyle \\verb|Denef|\\verb| |\\verb|&|\\verb| |\\verb|Lipshitz|\\verb| |\\verb|Embedding:| -\\frac{{\\left(2 \\, Y x - 2 \\, Y - 1\\right)} {\\left(x - 1\\right)}}{{\\left(Y x^{2} - 2 \\, Y x + Y + 1\\right)} x}\\)</html>"
      ],
      "text/latex": [
       "$\\displaystyle \\verb|Denef|\\verb| |\\verb|&|\\verb| |\\verb|Lipshitz|\\verb| |\\verb|Embedding:| -\\frac{{\\left(2 \\, Y x - 2 \\, Y - 1\\right)} {\\left(x - 1\\right)}}{{\\left(Y x^{2} - 2 \\, Y x + Y + 1\\right)} x}$"
      ],
      "text/plain": [
       "'Denef & Lipshitz Embedding: ' -(2*Y*x - 2*Y - 1)*(x - 1)/((Y*x^2 - 2*Y*x + Y + 1)*x)"
      ]
     },
     "metadata": {},
     "output_type": "display_data"
    }
   ],
   "source": [
    "ratDL = embed_algebraic_DL(P, Q=Q, W=W, Y=Y)\n",
    "show(\"Denef & Lipshitz Embedding: \", ratDL)"
   ]
  },
  {
   "cell_type": "code",
   "execution_count": null,
   "id": "599d2a45-220a-4d73-b494-eb04ef5d5cc9",
   "metadata": {},
   "outputs": [],
   "source": []
  },
  {
   "cell_type": "markdown",
   "id": "b5f0d749-15f1-4f5c-8785-0f05cf998ad3",
   "metadata": {},
   "source": [
    "### Example 67. 0-2-5 Trees"
   ]
  },
  {
   "cell_type": "code",
   "execution_count": 199,
   "id": "3e98000f-e67e-4ce8-ba93-ccdf83632934",
   "metadata": {},
   "outputs": [],
   "source": [
    "P = 1-Y+y*(((Y-1)^2-1)+x*(Y-1)^5)\n",
    "Q = -Y+y*(Y^2-1+x*Y^5)\n",
    "W = Y+1"
   ]
  },
  {
   "cell_type": "code",
   "execution_count": 200,
   "id": "52c12fc2-ed8b-4078-b219-79e43c6f949f",
   "metadata": {},
   "outputs": [
    {
     "data": {
      "text/html": [
       "<html>\\(\\displaystyle \\verb|Denef|\\verb| |\\verb|&|\\verb| |\\verb|Lipshitz|\\verb| |\\verb|Embedding:| \\frac{{\\left(5 \\, Y^{6} x y + 2 \\, Y^{2} y - 1\\right)} {\\left(Y + 1\\right)}}{Y^{6} x y + Y^{2} y - y - 1}\\)</html>"
      ],
      "text/latex": [
       "$\\displaystyle \\verb|Denef|\\verb| |\\verb|&|\\verb| |\\verb|Lipshitz|\\verb| |\\verb|Embedding:| \\frac{{\\left(5 \\, Y^{6} x y + 2 \\, Y^{2} y - 1\\right)} {\\left(Y + 1\\right)}}{Y^{6} x y + Y^{2} y - y - 1}$"
      ],
      "text/plain": [
       "'Denef & Lipshitz Embedding: ' (5*Y^6*x*y + 2*Y^2*y - 1)*(Y + 1)/(Y^6*x*y + Y^2*y - y - 1)"
      ]
     },
     "metadata": {},
     "output_type": "display_data"
    }
   ],
   "source": [
    "ratDL = embed_algebraic_DL(P, Q=Q, W=W, Y=Y)\n",
    "show(\"Denef & Lipshitz Embedding: \", ratDL)"
   ]
  },
  {
   "cell_type": "code",
   "execution_count": null,
   "id": "4359d30c-e3cf-4d1a-90cf-75588f4131b3",
   "metadata": {},
   "outputs": [],
   "source": []
  },
  {
   "cell_type": "markdown",
   "id": "2cdc546d-c950-4fce-b7ce-8f768e8e5fb2",
   "metadata": {},
   "source": [
    "### Example 68."
   ]
  },
  {
   "cell_type": "code",
   "execution_count": 201,
   "id": "4be2c879-dde8-4b1e-9bb0-8dd0faa991e9",
   "metadata": {},
   "outputs": [
    {
     "data": {
      "text/html": [
       "<html>\\(\\displaystyle 4 \\, {\\left(x - 1\\right)} {\\left(y - 1\\right)}\\)</html>"
      ],
      "text/latex": [
       "$\\displaystyle 4 \\, {\\left(x - 1\\right)} {\\left(y - 1\\right)}$"
      ],
      "text/plain": [
       "4*(x - 1)*(y - 1)"
      ]
     },
     "metadata": {},
     "output_type": "display_data"
    }
   ],
   "source": [
    "f = sqrt((1-y)/(1-x))\n",
    "P = (1-x)*Y^2-(1-y)\n",
    "show(-4*A*C)"
   ]
  },
  {
   "cell_type": "code",
   "execution_count": 202,
   "id": "12da8b15-69d9-4cd5-88bc-9b6f05ef0abc",
   "metadata": {},
   "outputs": [],
   "source": [
    "C = y-1\n",
    "A = 1-x\n",
    "\n",
    "Dt = (x-1)*(y-1)\n",
    "Q = (Y-1)^2 - Dt\n",
    "W = Dt/(A*(1-Y))"
   ]
  },
  {
   "cell_type": "code",
   "execution_count": 203,
   "id": "9a5c8f61-33d6-426a-8935-37a296955155",
   "metadata": {},
   "outputs": [
    {
     "data": {
      "text/html": [
       "<html>\\(\\displaystyle \\verb|Denef|\\verb| |\\verb|&|\\verb| |\\verb|Lipshitz|\\verb| |\\verb|Embedding:| -\\frac{2 \\, {\\left(Y y - 1\\right)}}{Y x y - Y - x - y + 2}\\)</html>"
      ],
      "text/latex": [
       "$\\displaystyle \\verb|Denef|\\verb| |\\verb|&|\\verb| |\\verb|Lipshitz|\\verb| |\\verb|Embedding:| -\\frac{2 \\, {\\left(Y y - 1\\right)}}{Y x y - Y - x - y + 2}$"
      ],
      "text/plain": [
       "'Denef & Lipshitz Embedding: ' -2*(Y*y - 1)/(Y*x*y - Y - x - y + 2)"
      ]
     },
     "metadata": {},
     "output_type": "display_data"
    }
   ],
   "source": [
    "ratDL = embed_algebraic_DL(P, Q=Q, W=W, Y=Y)\n",
    "show(\"Denef & Lipshitz Embedding: \", ratDL)"
   ]
  },
  {
   "cell_type": "code",
   "execution_count": null,
   "id": "e2c908fd-fdfc-4dd4-bd0b-801e5e147a8b",
   "metadata": {},
   "outputs": [],
   "source": []
  },
  {
   "cell_type": "markdown",
   "id": "a7508fe1-4ade-4c04-87b2-32dc4b710fbb",
   "metadata": {},
   "source": [
    "### Example 70. Narayana Generating Function"
   ]
  },
  {
   "cell_type": "code",
   "execution_count": 214,
   "id": "5ec288bb-0d80-4de5-9e0c-0ad6002ac418",
   "metadata": {},
   "outputs": [],
   "source": [
    "f = 1/(2*x)*(1-x*(y-1)-sqrt(1-2*x*(y+1)+x^2*(y-1)^2))-1\n",
    "P = Y^2*x + Y*x*y + Y*x + x*y - Y\n",
    "def terms(n): return f.taylor([x, y], 0, n)"
   ]
  },
  {
   "cell_type": "code",
   "execution_count": 216,
   "id": "a6ccaf26-56f2-4f78-9fd4-0f78cb1f94f1",
   "metadata": {},
   "outputs": [
    {
     "data": {
      "text/html": [
       "<html>\\(\\displaystyle \\verb|Safonov|\\verb| |\\verb|Rational|\\verb| |\\verb|Embedding:| \\frac{{\\left(Y^{2} x y + 2 \\, Y^{2} x + Y x - 1\\right)} Y}{Y^{2} x y + Y^{2} x + Y x y + Y x - 1}\\)</html>"
      ],
      "text/latex": [
       "$\\displaystyle \\verb|Safonov|\\verb| |\\verb|Rational|\\verb| |\\verb|Embedding:| \\frac{{\\left(Y^{2} x y + 2 \\, Y^{2} x + Y x - 1\\right)} Y}{Y^{2} x y + Y^{2} x + Y x y + Y x - 1}$"
      ],
      "text/plain": [
       "'Safonov Rational Embedding: ' (Y^2*x*y + 2*Y^2*x + Y*x - 1)*Y/(Y^2*x*y + Y^2*x + Y*x*y + Y*x - 1)"
      ]
     },
     "metadata": {},
     "output_type": "display_data"
    },
    {
     "data": {
      "text/html": [
       "<html>\\(\\displaystyle \\verb|A:| \\left(\\begin{array}{rr}\n",
       "1 & 0 \\\\\n",
       "0 & 1\n",
       "\\end{array}\\right)\\)</html>"
      ],
      "text/latex": [
       "$\\displaystyle \\verb|A:| \\left(\\begin{array}{rr}\n",
       "1 & 0 \\\\\n",
       "0 & 1\n",
       "\\end{array}\\right)$"
      ],
      "text/plain": [
       "'A: ' [1 0]\n",
       "[0 1]"
      ]
     },
     "metadata": {},
     "output_type": "display_data"
    }
   ],
   "source": [
    "ratSaf, A = embed_algebraic_Safonov(P, terms, Y=Y)\n",
    "show(\"Safonov Rational Embedding: \", ratSaf.factor())\n",
    "show(\"A: \", A)"
   ]
  },
  {
   "cell_type": "code",
   "execution_count": 217,
   "id": "32fa39e1-c33c-43c7-8feb-9c3071561d8f",
   "metadata": {},
   "outputs": [],
   "source": [
    "f = 1/2*(1-x*(y-1)-sqrt(1-2*x*(y+1)+x^2*(y-1)^2))\n",
    "P = Y*x*y+Y^2-Y*x-Y+x\n",
    "def terms(n): return f.taylor([x, y], 0, n)"
   ]
  },
  {
   "cell_type": "code",
   "execution_count": 218,
   "id": "08080792-22bb-44c8-b468-c62cd0676397",
   "metadata": {},
   "outputs": [
    {
     "data": {
      "text/html": [
       "<html>\\(\\displaystyle \\verb|Safonov|\\verb| |\\verb|Rational|\\verb| |\\verb|Embedding:| \\frac{{\\left(Y^{2} x y - Y x + 2 \\, Y - 1\\right)} Y}{Y^{2} x y - Y x + Y + x - 1}\\)</html>"
      ],
      "text/latex": [
       "$\\displaystyle \\verb|Safonov|\\verb| |\\verb|Rational|\\verb| |\\verb|Embedding:| \\frac{{\\left(Y^{2} x y - Y x + 2 \\, Y - 1\\right)} Y}{Y^{2} x y - Y x + Y + x - 1}$"
      ],
      "text/plain": [
       "'Safonov Rational Embedding: ' (Y^2*x*y - Y*x + 2*Y - 1)*Y/(Y^2*x*y - Y*x + Y + x - 1)"
      ]
     },
     "metadata": {},
     "output_type": "display_data"
    },
    {
     "data": {
      "text/html": [
       "<html>\\(\\displaystyle \\verb|A:| \\left(\\begin{array}{rr}\n",
       "1 & 0 \\\\\n",
       "0 & 1\n",
       "\\end{array}\\right)\\)</html>"
      ],
      "text/latex": [
       "$\\displaystyle \\verb|A:| \\left(\\begin{array}{rr}\n",
       "1 & 0 \\\\\n",
       "0 & 1\n",
       "\\end{array}\\right)$"
      ],
      "text/plain": [
       "'A: ' [1 0]\n",
       "[0 1]"
      ]
     },
     "metadata": {},
     "output_type": "display_data"
    }
   ],
   "source": [
    "ratSaf, A = embed_algebraic_Safonov(P, terms, Y=Y)\n",
    "show(\"Safonov Rational Embedding: \", ratSaf.factor())\n",
    "show(\"A: \", A)"
   ]
  },
  {
   "cell_type": "code",
   "execution_count": null,
   "id": "76564e8a-e775-4881-9df3-f0289aef491e",
   "metadata": {},
   "outputs": [],
   "source": []
  },
  {
   "cell_type": "markdown",
   "id": "3dbb0f7b-d7ac-434b-9b46-6650c92de9fa",
   "metadata": {},
   "source": [
    "### Example 71. Polygon Dissections"
   ]
  },
  {
   "cell_type": "code",
   "execution_count": 219,
   "id": "0e51c01b-13c8-47fb-8b15-18b63efcc26d",
   "metadata": {},
   "outputs": [],
   "source": [
    "f = (4862*x^9 + 19448*x^7 + 8008*x^6 + 27027*x^5 + 16016*x^4 + 16302*x^3 + 7788*x^2 + 3058*x + 540)*y^11 + (1430*x^8 + 5005*x^6 + 2002*x^5 + 5720*x^4 + 3080*x^3 + 2475*x^2 + 890*x + 191)*y^10 + (429*x^7 + 1287*x^5 + 495*x^4 + 1155*x^3 + 540*x^2 + 309*x + 64)*y^9 + (132*x^6 + 330*x^4 + 120*x^3 + 216*x^2 + 80*x + 25)*y^8 + (42*x^5 + 84*x^3 + 28*x^2 + 35*x + 8)*y^7 + (14*x^4 + 21*x^2 + 6*x + 4)*y^6 + (5*x^3 + 5*x + 1)*y^5 + (2*x^2 + 1)*y^4 + x*y^3 + y^2\n",
    "P = -x*Y^3 + x*Y^2*y - Y*y^3 + y^4 + Y^3 + Y^2*y - Y*y^2\n",
    "def terms(n): return f.taylor([x, y],0,n)"
   ]
  },
  {
   "cell_type": "code",
   "execution_count": 220,
   "id": "ec09b92f-b390-4e6e-8b7e-02306bc7f2fe",
   "metadata": {},
   "outputs": [
    {
     "data": {
      "text/html": [
       "<html>\\(\\displaystyle \\verb|Safonov|\\verb| |\\verb|Rational|\\verb| |\\verb|Embedding:| \\frac{{\\left(3 \\, Y^{7} x y^{3} + 7 \\, Y^{6} x y^{3} + 6 \\, Y^{5} x y^{3} - 2 \\, Y^{5} x y^{2} + 3 \\, Y^{4} x y^{3} - 3 \\, Y^{5} y^{2} - 3 \\, Y^{4} x y^{2} + Y^{3} x y^{3} - 7 \\, Y^{4} y^{2} - 2 \\, Y^{3} x y^{2} - 6 \\, Y^{3} y^{2} - Y^{2} x y^{2} - 2 \\, Y^{3} y - 3 \\, Y^{2} y^{2} - 2 \\, Y^{2} y - Y y^{2} - Y y + Y + 1\\right)} Y^{2} y^{2}}{Y^{6} x y^{3} + 3 \\, Y^{5} x y^{3} + 3 \\, Y^{4} x y^{3} - Y^{4} x y^{2} + Y^{3} x y^{3} - Y^{4} y^{2} - 2 \\, Y^{3} x y^{2} - 3 \\, Y^{3} y^{2} - Y^{2} x y^{2} - 3 \\, Y^{2} y^{2} - Y^{2} y - Y y^{2} - Y y + 1}\\)</html>"
      ],
      "text/latex": [
       "$\\displaystyle \\verb|Safonov|\\verb| |\\verb|Rational|\\verb| |\\verb|Embedding:| \\frac{{\\left(3 \\, Y^{7} x y^{3} + 7 \\, Y^{6} x y^{3} + 6 \\, Y^{5} x y^{3} - 2 \\, Y^{5} x y^{2} + 3 \\, Y^{4} x y^{3} - 3 \\, Y^{5} y^{2} - 3 \\, Y^{4} x y^{2} + Y^{3} x y^{3} - 7 \\, Y^{4} y^{2} - 2 \\, Y^{3} x y^{2} - 6 \\, Y^{3} y^{2} - Y^{2} x y^{2} - 2 \\, Y^{3} y - 3 \\, Y^{2} y^{2} - 2 \\, Y^{2} y - Y y^{2} - Y y + Y + 1\\right)} Y^{2} y^{2}}{Y^{6} x y^{3} + 3 \\, Y^{5} x y^{3} + 3 \\, Y^{4} x y^{3} - Y^{4} x y^{2} + Y^{3} x y^{3} - Y^{4} y^{2} - 2 \\, Y^{3} x y^{2} - 3 \\, Y^{3} y^{2} - Y^{2} x y^{2} - 3 \\, Y^{2} y^{2} - Y^{2} y - Y y^{2} - Y y + 1}$"
      ],
      "text/plain": [
       "'Safonov Rational Embedding: ' (3*Y^7*x*y^3 + 7*Y^6*x*y^3 + 6*Y^5*x*y^3 - 2*Y^5*x*y^2 + 3*Y^4*x*y^3 - 3*Y^5*y^2 - 3*Y^4*x*y^2 + Y^3*x*y^3 - 7*Y^4*y^2 - 2*Y^3*x*y^2 - 6*Y^3*y^2 - Y^2*x*y^2 - 2*Y^3*y - 3*Y^2*y^2 - 2*Y^2*y - Y*y^2 - Y*y + Y + 1)*Y^2*y^2/(Y^6*x*y^3 + 3*Y^5*x*y^3 + 3*Y^4*x*y^3 - Y^4*x*y^2 + Y^3*x*y^3 - Y^4*y^2 - 2*Y^3*x*y^2 - 3*Y^3*y^2 - Y^2*x*y^2 - 3*Y^2*y^2 - Y^2*y - Y*y^2 - Y*y + 1)"
      ]
     },
     "metadata": {},
     "output_type": "display_data"
    },
    {
     "data": {
      "text/html": [
       "<html>\\(\\displaystyle \\verb|A:| \\left(\\begin{array}{rr}\n",
       "1 & 0 \\\\\n",
       "1 & 1\n",
       "\\end{array}\\right)\\)</html>"
      ],
      "text/latex": [
       "$\\displaystyle \\verb|A:| \\left(\\begin{array}{rr}\n",
       "1 & 0 \\\\\n",
       "1 & 1\n",
       "\\end{array}\\right)$"
      ],
      "text/plain": [
       "'A: ' [1 0]\n",
       "[1 1]"
      ]
     },
     "metadata": {},
     "output_type": "display_data"
    }
   ],
   "source": [
    "ratSaf, A = embed_algebraic_Safonov(P, terms, Y=Y)\n",
    "show(\"Safonov Rational Embedding: \", ratSaf.factor())\n",
    "show(\"A: \", A)"
   ]
  },
  {
   "cell_type": "code",
   "execution_count": null,
   "id": "766a6f56-4721-438c-92f6-db1d6ac66c00",
   "metadata": {},
   "outputs": [],
   "source": []
  },
  {
   "cell_type": "markdown",
   "id": "9bef971a-107d-44d5-8693-0625889263dd",
   "metadata": {},
   "source": [
    "### Example 73. Assembly Trees"
   ]
  },
  {
   "cell_type": "code",
   "execution_count": 118,
   "id": "7d18feb3-bb9c-40a5-a772-422124e7ddcc",
   "metadata": {},
   "outputs": [],
   "source": [
    "f = 1 - sqrt((1 - x)^2 + (1 - y)^2 - 1)\n",
    "P = (Y - 1)^2 - ((1 - x)^2 + (1 - y)^2 - 1)\n",
    "def terms(n): return f.taylor([x, y], 0, n)"
   ]
  },
  {
   "cell_type": "code",
   "execution_count": 119,
   "id": "ec553be6-77bf-42d6-b277-c5ae35a0a2c2",
   "metadata": {},
   "outputs": [
    {
     "data": {
      "text/html": [
       "<html>\\(\\displaystyle \\verb|Denef|\\verb| |\\verb|&|\\verb| |\\verb|Lipshitz|\\verb| |\\verb|Embedding:| -\\frac{2 \\, {\\left(Y - 1\\right)} Y}{Y x^{2} + Y y^{2} - Y - 2 \\, x - 2 \\, y + 2}\\)</html>"
      ],
      "text/latex": [
       "$\\displaystyle \\verb|Denef|\\verb| |\\verb|&|\\verb| |\\verb|Lipshitz|\\verb| |\\verb|Embedding:| -\\frac{2 \\, {\\left(Y - 1\\right)} Y}{Y x^{2} + Y y^{2} - Y - 2 \\, x - 2 \\, y + 2}$"
      ],
      "text/plain": [
       "'Denef & Lipshitz Embedding: ' -2*(Y - 1)*Y/(Y*x^2 + Y*y^2 - Y - 2*x - 2*y + 2)"
      ]
     },
     "metadata": {},
     "output_type": "display_data"
    },
    {
     "data": {
      "text/html": [
       "<html>\\(\\displaystyle \\verb|Safonov|\\verb| |\\verb|Rational|\\verb| |\\verb|Embedding:| -\\frac{2 \\, {\\left(Y^{2} - Y\\right)}}{Y x^{2} + Y y^{2} - Y - 2 \\, x - 2 \\, y + 2}\\)</html>"
      ],
      "text/latex": [
       "$\\displaystyle \\verb|Safonov|\\verb| |\\verb|Rational|\\verb| |\\verb|Embedding:| -\\frac{2 \\, {\\left(Y^{2} - Y\\right)}}{Y x^{2} + Y y^{2} - Y - 2 \\, x - 2 \\, y + 2}$"
      ],
      "text/plain": [
       "'Safonov Rational Embedding: ' -2*(Y^2 - Y)/(Y*x^2 + Y*y^2 - Y - 2*x - 2*y + 2)"
      ]
     },
     "metadata": {},
     "output_type": "display_data"
    },
    {
     "data": {
      "text/html": [
       "<html>\\(\\displaystyle \\verb|A:| \\left(\\begin{array}{rr}\n",
       "1 & 0 \\\\\n",
       "0 & 1\n",
       "\\end{array}\\right)\\)</html>"
      ],
      "text/latex": [
       "$\\displaystyle \\verb|A:| \\left(\\begin{array}{rr}\n",
       "1 & 0 \\\\\n",
       "0 & 1\n",
       "\\end{array}\\right)$"
      ],
      "text/plain": [
       "'A: ' [1 0]\n",
       "[0 1]"
      ]
     },
     "metadata": {},
     "output_type": "display_data"
    }
   ],
   "source": [
    "ratDL = embed_algebraic_DL(P, Q=P, W=Y, Y=Y)\n",
    "ratSaf, A = embed_algebraic_Safonov(P, terms, Y=Y)\n",
    "show(\"Denef & Lipshitz Embedding: \", ratDL)\n",
    "show(\"Safonov Rational Embedding: \", ratSaf)\n",
    "show(\"A: \", A)"
   ]
  },
  {
   "cell_type": "code",
   "execution_count": null,
   "id": "d8247f02-7fac-45c6-aacc-30b21799cf3e",
   "metadata": {},
   "outputs": [],
   "source": []
  },
  {
   "cell_type": "markdown",
   "id": "b2bead00-3976-4b6b-90a0-1a1e4d25bccd",
   "metadata": {},
   "source": [
    "### Example 74. New and Old Leaves of Binary Trees"
   ]
  },
  {
   "cell_type": "code",
   "execution_count": 120,
   "id": "6eebbfc6-b262-478b-ae9a-f842c56f16e9",
   "metadata": {},
   "outputs": [],
   "source": [
    "f = -(1/2)*(z*y+sqrt(y^2*z^2-4*x*z^2+2*y*z^2-2*y*z+z^2-2*z+1)-z-1)/z - 1\n",
    "P = ((Y+1) - 1)*(1 - z*((Y+1) - 1 + y)) - z*((Y+1) - 1 + x)\n",
    "def terms(n): return f.taylor([x, y, z], 0, n)"
   ]
  },
  {
   "cell_type": "code",
   "execution_count": 121,
   "id": "862ee9a4-6992-42c5-97d0-67736f1f7e3d",
   "metadata": {},
   "outputs": [
    {
     "data": {
      "text/html": [
       "<html>\\(\\displaystyle \\verb|Denef|\\verb| |\\verb|&|\\verb| |\\verb|Lipshitz|\\verb| |\\verb|Embedding:| \\frac{{\\left(Y^{2} y z + 2 \\, Y^{2} z + Y z - 1\\right)} Y}{Y^{2} y z + Y^{2} z + Y x z + Y z - 1}\\)</html>"
      ],
      "text/latex": [
       "$\\displaystyle \\verb|Denef|\\verb| |\\verb|&|\\verb| |\\verb|Lipshitz|\\verb| |\\verb|Embedding:| \\frac{{\\left(Y^{2} y z + 2 \\, Y^{2} z + Y z - 1\\right)} Y}{Y^{2} y z + Y^{2} z + Y x z + Y z - 1}$"
      ],
      "text/plain": [
       "'Denef & Lipshitz Embedding: ' (Y^2*y*z + 2*Y^2*z + Y*z - 1)*Y/(Y^2*y*z + Y^2*z + Y*x*z + Y*z - 1)"
      ]
     },
     "metadata": {},
     "output_type": "display_data"
    },
    {
     "data": {
      "text/html": [
       "<html>\\(\\displaystyle \\verb|Safonov|\\verb| |\\verb|Rational|\\verb| |\\verb|Embedding:| \\frac{{\\left(Y^{3} y + 2 \\, Y^{3} + Y^{2}\\right)} z - Y}{{\\left(Y^{2} y + Y^{2} + Y x + Y\\right)} z - 1}\\)</html>"
      ],
      "text/latex": [
       "$\\displaystyle \\verb|Safonov|\\verb| |\\verb|Rational|\\verb| |\\verb|Embedding:| \\frac{{\\left(Y^{3} y + 2 \\, Y^{3} + Y^{2}\\right)} z - Y}{{\\left(Y^{2} y + Y^{2} + Y x + Y\\right)} z - 1}$"
      ],
      "text/plain": [
       "'Safonov Rational Embedding: ' ((Y^3*y + 2*Y^3 + Y^2)*z - Y)/((Y^2*y + Y^2 + Y*x + Y)*z - 1)"
      ]
     },
     "metadata": {},
     "output_type": "display_data"
    },
    {
     "data": {
      "text/html": [
       "<html>\\(\\displaystyle \\verb|A:| \\left(\\begin{array}{rrr}\n",
       "1 & 0 & 0 \\\\\n",
       "0 & 1 & 0 \\\\\n",
       "0 & 0 & 1\n",
       "\\end{array}\\right)\\)</html>"
      ],
      "text/latex": [
       "$\\displaystyle \\verb|A:| \\left(\\begin{array}{rrr}\n",
       "1 & 0 & 0 \\\\\n",
       "0 & 1 & 0 \\\\\n",
       "0 & 0 & 1\n",
       "\\end{array}\\right)$"
      ],
      "text/plain": [
       "'A: ' [1 0 0]\n",
       "[0 1 0]\n",
       "[0 0 1]"
      ]
     },
     "metadata": {},
     "output_type": "display_data"
    }
   ],
   "source": [
    "ratDL = embed_algebraic_DL(P, Q=P, W=Y, Y=Y)\n",
    "ratSaf, A = embed_algebraic_Safonov(P, terms, Y=Y)\n",
    "show(\"Denef & Lipshitz Embedding: \", ratDL)\n",
    "show(\"Safonov Rational Embedding: \", ratSaf)\n",
    "show(\"A: \", A)"
   ]
  },
  {
   "cell_type": "code",
   "execution_count": null,
   "id": "4089e96d-9106-47d1-9398-c9987f4ec5be",
   "metadata": {},
   "outputs": [],
   "source": []
  },
  {
   "cell_type": "markdown",
   "id": "2f9057b7-e639-4993-a887-b8a4829cc064",
   "metadata": {},
   "source": [
    "### Example 75. Stochastic Context-Free Grammars"
   ]
  },
  {
   "cell_type": "code",
   "execution_count": 122,
   "id": "7a55aa63-8b24-4d45-bc60-bbf3d0f04cb8",
   "metadata": {},
   "outputs": [],
   "source": [
    "f = ((1 - p1*q2*x)*(1 - p3*x^2*y) - sqrt((1 - p1*q2*x)^2*(1-p3*x^2*y)^2-4*p2*q1*q2*q3*x^3*y*(1-p3*x^2*y)))/(2*p2*q3*x^2*y)\n",
    "P = Y*p1*p3*q2*y*x^3 - Y^2*p2*q3*y*x^2 + p3*q1*q2*y*x^3 - Y*p3*y*x^2 - Y*p1*q2*x - q1*q2*x + Y\n",
    "\n",
    "def terms(n): return f2.taylor([x, y], 0, n)"
   ]
  },
  {
   "cell_type": "code",
   "execution_count": 123,
   "id": "9b10e7c4-8f3d-411f-b9bd-1b1713e27959",
   "metadata": {},
   "outputs": [
    {
     "data": {
      "text/html": [
       "<html>\\(\\displaystyle \\verb|Denef|\\verb| |\\verb|&|\\verb| |\\verb|Lipshitz|\\verb| |\\verb|Embedding:| \\frac{{\\left(Y^{4} p_{1} p_{3} q_{2} x^{3} y - 2 \\, Y^{4} p_{2} q_{3} x^{2} y - Y^{3} p_{3} x^{2} y - Y p_{1} q_{2} x + 1\\right)} Y}{Y^{4} p_{1} p_{3} q_{2} x^{3} y + Y^{3} p_{3} q_{1} q_{2} x^{3} y - Y^{4} p_{2} q_{3} x^{2} y - Y^{3} p_{3} x^{2} y - Y p_{1} q_{2} x - q_{1} q_{2} x + 1}\\)</html>"
      ],
      "text/latex": [
       "$\\displaystyle \\verb|Denef|\\verb| |\\verb|&|\\verb| |\\verb|Lipshitz|\\verb| |\\verb|Embedding:| \\frac{{\\left(Y^{4} p_{1} p_{3} q_{2} x^{3} y - 2 \\, Y^{4} p_{2} q_{3} x^{2} y - Y^{3} p_{3} x^{2} y - Y p_{1} q_{2} x + 1\\right)} Y}{Y^{4} p_{1} p_{3} q_{2} x^{3} y + Y^{3} p_{3} q_{1} q_{2} x^{3} y - Y^{4} p_{2} q_{3} x^{2} y - Y^{3} p_{3} x^{2} y - Y p_{1} q_{2} x - q_{1} q_{2} x + 1}$"
      ],
      "text/plain": [
       "'Denef & Lipshitz Embedding: ' (Y^4*p1*p3*q2*x^3*y - 2*Y^4*p2*q3*x^2*y - Y^3*p3*x^2*y - Y*p1*q2*x + 1)*Y/(Y^4*p1*p3*q2*x^3*y + Y^3*p3*q1*q2*x^3*y - Y^4*p2*q3*x^2*y - Y^3*p3*x^2*y - Y*p1*q2*x - q1*q2*x + 1)"
      ]
     },
     "metadata": {},
     "output_type": "display_data"
    },
    {
     "data": {
      "text/html": [
       "<html>\\(\\displaystyle \\verb|Safonov|\\verb| |\\verb|Rational|\\verb| |\\verb|Embedding:| \\frac{Y^{2} p_{1} q_{2} x - {\\left(Y^{5} p_{1} p_{3} q_{2} x^{3} - {\\left(2 \\, Y^{5} p_{2} q_{3} + Y^{4} p_{3}\\right)} x^{2}\\right)} y - Y}{{\\left(Y p_{1} + q_{1}\\right)} q_{2} x - {\\left({\\left(Y^{4} p_{1} p_{3} + Y^{3} p_{3} q_{1}\\right)} q_{2} x^{3} - {\\left(Y^{4} p_{2} q_{3} + Y^{3} p_{3}\\right)} x^{2}\\right)} y - 1}\\)</html>"
      ],
      "text/latex": [
       "$\\displaystyle \\verb|Safonov|\\verb| |\\verb|Rational|\\verb| |\\verb|Embedding:| \\frac{Y^{2} p_{1} q_{2} x - {\\left(Y^{5} p_{1} p_{3} q_{2} x^{3} - {\\left(2 \\, Y^{5} p_{2} q_{3} + Y^{4} p_{3}\\right)} x^{2}\\right)} y - Y}{{\\left(Y p_{1} + q_{1}\\right)} q_{2} x - {\\left({\\left(Y^{4} p_{1} p_{3} + Y^{3} p_{3} q_{1}\\right)} q_{2} x^{3} - {\\left(Y^{4} p_{2} q_{3} + Y^{3} p_{3}\\right)} x^{2}\\right)} y - 1}$"
      ],
      "text/plain": [
       "'Safonov Rational Embedding: ' (Y^2*p1*q2*x - (Y^5*p1*p3*q2*x^3 - (2*Y^5*p2*q3 + Y^4*p3)*x^2)*y - Y)/((Y*p1 + q1)*q2*x - ((Y^4*p1*p3 + Y^3*p3*q1)*q2*x^3 - (Y^4*p2*q3 + Y^3*p3)*x^2)*y - 1)"
      ]
     },
     "metadata": {},
     "output_type": "display_data"
    },
    {
     "data": {
      "text/html": [
       "<html>\\(\\displaystyle \\verb|A:| \\left(\\begin{array}{rr}\n",
       "1 & 0 \\\\\n",
       "0 & 1\n",
       "\\end{array}\\right)\\)</html>"
      ],
      "text/latex": [
       "$\\displaystyle \\verb|A:| \\left(\\begin{array}{rr}\n",
       "1 & 0 \\\\\n",
       "0 & 1\n",
       "\\end{array}\\right)$"
      ],
      "text/plain": [
       "'A: ' [1 0]\n",
       "[0 1]"
      ]
     },
     "metadata": {},
     "output_type": "display_data"
    }
   ],
   "source": [
    "ratDL = embed_algebraic_DL(P, Q=P, W=Y, Y=Y, params=[p1, p2, p3, q1, q2, q3])\n",
    "ratSaf, A = embed_algebraic_Safonov(P, terms, Y=Y, params=[p1, p2, p3, q1, q2, q3])\n",
    "show(\"Denef & Lipshitz Embedding: \", ratDL)\n",
    "show(\"Safonov Rational Embedding: \", ratSaf)\n",
    "show(\"A: \", A)"
   ]
  },
  {
   "cell_type": "code",
   "execution_count": null,
   "id": "64e64112-3084-4f11-83a2-784d2620569c",
   "metadata": {},
   "outputs": [],
   "source": []
  },
  {
   "cell_type": "markdown",
   "id": "73e2d08a-694d-48e2-a702-5e1622a0d70f",
   "metadata": {},
   "source": [
    "### Example 76. Restricted Dyck Paths on Valleys Sequence"
   ]
  },
  {
   "cell_type": "code",
   "execution_count": 124,
   "id": "d17c6341-8d24-4884-bc13-b3cb59745415",
   "metadata": {},
   "outputs": [],
   "source": [
    "A = x^2*y+x^2-2*x*y-2*x+1\n",
    "B = x^2*y^2+2*x^2*y-x*y^2-3*x*y+y\n",
    "C = x^2*y^2-x*y^2\n",
    "f = (-B + sqrt(B^2-4*A*C))/(2*A)\n",
    "P = Y^2*x^2*y+Y*x^2*y^2+Y^2*x^2-2*Y^2*x*y+2*Y*x^2*y-Y*x*y^2+x^2*y^2-2*Y^2*x-3*Y*x*y-x*y^2+Y^2+Y*y\n",
    "\n",
    "def terms(n): return f.taylor([x, y], 0, n)"
   ]
  },
  {
   "cell_type": "code",
   "execution_count": 125,
   "id": "e4d29545-9f45-441b-b252-1d2a660ee468",
   "metadata": {},
   "outputs": [],
   "source": [
    "Dt = (x^3*y^2 - x^2*y^2 + 2*x^2*y + 2*x*y + x - 1)*(x - 1)\n",
    "Q = (Y-1)^2 - Dt\n",
    "W = (-B*(1-Y)+y*Dt)/(2*A*(1-Y))"
   ]
  },
  {
   "cell_type": "code",
   "execution_count": 126,
   "id": "7dc8c6af-3600-4955-b9d6-d1715f269eb3",
   "metadata": {},
   "outputs": [
    {
     "data": {
      "text/html": [
       "<html>\\(\\displaystyle \\verb|Denef|\\verb| |\\verb|&|\\verb| |\\verb|Lipshitz|\\verb| |\\verb|Embedding:| \\frac{{\\left(Y^{4} x^{3} y^{2} - Y^{3} x^{2} y^{2} + 2 \\, Y^{2} x^{2} y + Y^{2} x y + Y x y + 2 \\, Y x - x - 1\\right)} {\\left(Y x - 1\\right)} Y^{2} y}{{\\left(Y^{5} x^{4} y^{2} - 2 \\, Y^{4} x^{3} y^{2} + 2 \\, Y^{3} x^{3} y + Y^{3} x^{2} y^{2} + Y x^{2} - 2 \\, Y x y - Y - 2 \\, x + 2\\right)} {\\left(Y^{3} x^{2} y + Y^{2} x^{2} - 2 \\, Y^{2} x y - 2 \\, Y x + 1\\right)}}\\)</html>"
      ],
      "text/latex": [
       "$\\displaystyle \\verb|Denef|\\verb| |\\verb|&|\\verb| |\\verb|Lipshitz|\\verb| |\\verb|Embedding:| \\frac{{\\left(Y^{4} x^{3} y^{2} - Y^{3} x^{2} y^{2} + 2 \\, Y^{2} x^{2} y + Y^{2} x y + Y x y + 2 \\, Y x - x - 1\\right)} {\\left(Y x - 1\\right)} Y^{2} y}{{\\left(Y^{5} x^{4} y^{2} - 2 \\, Y^{4} x^{3} y^{2} + 2 \\, Y^{3} x^{3} y + Y^{3} x^{2} y^{2} + Y x^{2} - 2 \\, Y x y - Y - 2 \\, x + 2\\right)} {\\left(Y^{3} x^{2} y + Y^{2} x^{2} - 2 \\, Y^{2} x y - 2 \\, Y x + 1\\right)}}$"
      ],
      "text/plain": [
       "'Denef & Lipshitz Embedding: ' (Y^4*x^3*y^2 - Y^3*x^2*y^2 + 2*Y^2*x^2*y + Y^2*x*y + Y*x*y + 2*Y*x - x - 1)*(Y*x - 1)*Y^2*y/((Y^5*x^4*y^2 - 2*Y^4*x^3*y^2 + 2*Y^3*x^3*y + Y^3*x^2*y^2 + Y*x^2 - 2*Y*x*y - Y - 2*x + 2)*(Y^3*x^2*y + Y^2*x^2 - 2*Y^2*x*y - 2*Y*x + 1))"
      ]
     },
     "metadata": {},
     "output_type": "display_data"
    },
    {
     "data": {
      "text/html": [
       "<html>\\(\\displaystyle \\verb|Safonov|\\verb| |\\verb|Rational|\\verb| |\\verb|Embedding:| \\frac{{\\left(2 \\, Y^{8} + Y^{7}\\right)} x^{2} y^{4} - {\\left(4 \\, Y^{5} + 3 \\, Y^{4}\\right)} x y^{2} + {\\left(2 \\, {\\left(Y^{7} + Y^{6}\\right)} x^{2} - {\\left(4 \\, Y^{6} + Y^{5}\\right)} x\\right)} y^{3} + {\\left(2 \\, Y^{3} + Y^{2}\\right)} y}{{\\left(Y^{6} + Y^{5}\\right)} x^{2} y^{3} - {\\left(2 \\, Y^{3} + 3 \\, Y^{2} + Y\\right)} x y + {\\left({\\left(Y^{5} + 2 \\, Y^{4} + Y^{3}\\right)} x^{2} - {\\left(2 \\, Y^{4} + Y^{3}\\right)} x\\right)} y^{2} + Y + 1}\\)</html>"
      ],
      "text/latex": [
       "$\\displaystyle \\verb|Safonov|\\verb| |\\verb|Rational|\\verb| |\\verb|Embedding:| \\frac{{\\left(2 \\, Y^{8} + Y^{7}\\right)} x^{2} y^{4} - {\\left(4 \\, Y^{5} + 3 \\, Y^{4}\\right)} x y^{2} + {\\left(2 \\, {\\left(Y^{7} + Y^{6}\\right)} x^{2} - {\\left(4 \\, Y^{6} + Y^{5}\\right)} x\\right)} y^{3} + {\\left(2 \\, Y^{3} + Y^{2}\\right)} y}{{\\left(Y^{6} + Y^{5}\\right)} x^{2} y^{3} - {\\left(2 \\, Y^{3} + 3 \\, Y^{2} + Y\\right)} x y + {\\left({\\left(Y^{5} + 2 \\, Y^{4} + Y^{3}\\right)} x^{2} - {\\left(2 \\, Y^{4} + Y^{3}\\right)} x\\right)} y^{2} + Y + 1}$"
      ],
      "text/plain": [
       "'Safonov Rational Embedding: ' ((2*Y^8 + Y^7)*x^2*y^4 - (4*Y^5 + 3*Y^4)*x*y^2 + (2*(Y^7 + Y^6)*x^2 - (4*Y^6 + Y^5)*x)*y^3 + (2*Y^3 + Y^2)*y)/((Y^6 + Y^5)*x^2*y^3 - (2*Y^3 + 3*Y^2 + Y)*x*y + ((Y^5 + 2*Y^4 + Y^3)*x^2 - (2*Y^4 + Y^3)*x)*y^2 + Y + 1)"
      ]
     },
     "metadata": {},
     "output_type": "display_data"
    },
    {
     "data": {
      "text/html": [
       "<html>\\(\\displaystyle \\verb|A:| \\left(\\begin{array}{rr}\n",
       "1 & 0 \\\\\n",
       "1 & 1\n",
       "\\end{array}\\right)\\)</html>"
      ],
      "text/latex": [
       "$\\displaystyle \\verb|A:| \\left(\\begin{array}{rr}\n",
       "1 & 0 \\\\\n",
       "1 & 1\n",
       "\\end{array}\\right)$"
      ],
      "text/plain": [
       "'A: ' [1 0]\n",
       "[1 1]"
      ]
     },
     "metadata": {},
     "output_type": "display_data"
    }
   ],
   "source": [
    "ratDL = embed_algebraic_DL(P, Q=Q, W=W, Y=Y)\n",
    "ratSaf, A = embed_algebraic_Safonov(P, terms, Y=Y)\n",
    "show(\"Denef & Lipshitz Embedding: \", ratDL)\n",
    "show(\"Safonov Rational Embedding: \", ratSaf)\n",
    "show(\"A: \", A)"
   ]
  },
  {
   "cell_type": "code",
   "execution_count": null,
   "id": "1eb24a66-6db5-4155-aa0a-748633c26d5e",
   "metadata": {},
   "outputs": [],
   "source": []
  },
  {
   "cell_type": "markdown",
   "id": "c557e1ee-fdac-430e-aa10-a20b746e715a",
   "metadata": {},
   "source": [
    "### Example 77. Zeilberger's Binary Tree Jump Statistics"
   ]
  },
  {
   "cell_type": "code",
   "execution_count": 127,
   "id": "30be4b1e-5c36-40af-809e-f23ef7c504ab",
   "metadata": {},
   "outputs": [],
   "source": [
    "f = - (-z*y*x+y*x+sqrt(z^2*y^2*x^2 -2*z*y^2*x^2-2*z*y^2*x+y^2*x^2-2*y^2*x+y^2) +y-2)/(2*(z*y*x+y^2*x-y*x-y+1))-1\n",
    "P = ((Y+1)^2*x*y^2 + (Y+1)^2*x*y*z - (Y+1)^2*x*y - (Y+1)*x*y*z - (Y+1)^2*y + (Y+1)*x*y + (Y+1)^2 + (Y+1)*y - 2*(Y+1) + 1)*(x*y^2 + x*y*z - x*y - y + 1)\n",
    "\n",
    "def terms(n): return f.taylor([x, y, z], 0, n)"
   ]
  },
  {
   "cell_type": "code",
   "execution_count": 128,
   "id": "3cf6b0a9-00ef-4264-b6b9-951f45030916",
   "metadata": {},
   "outputs": [],
   "source": [
    "C = (x*y^2 + x*y*z - x*y - y + 1)*x*y^2\n",
    "B = (2*x*y^2 + x*y*z - x*y - y)*(x*y^2 + x*y*z - x*y - y + 1)\n",
    "A = (x*y^2 + x*y*z - x*y - y + 1)^2\n",
    "\n",
    "Dt = x^2*z^2 - 2*x^2*z + x^2 - 2*x*z - 2*x + 1\n",
    "Q = (Y-1)^2 - Dt\n",
    "W = (-B*(1-Y)+((x*y^2 + x*y*z - x*y - y + 1)*y)*Dt)/(2*A*(1-Y))"
   ]
  },
  {
   "cell_type": "code",
   "execution_count": 129,
   "id": "d65d97b8-b8c0-41ef-858a-b46bc5e4c498",
   "metadata": {},
   "outputs": [
    {
     "data": {
      "text/html": [
       "<html>\\(\\displaystyle \\verb|Denef|\\verb| |\\verb|&|\\verb| |\\verb|Lipshitz|\\verb| |\\verb|Embedding:| \\frac{{\\left(Y^{4} x^{2} z^{2} - 2 \\, Y^{3} x^{2} z + 2 \\, Y^{3} x y + Y^{3} x z + Y^{2} x^{2} - 2 \\, Y^{2} x y - 3 \\, Y^{2} x z - Y^{2} x - Y x - Y + 2\\right)} Y y}{{\\left(Y^{3} x^{2} z^{2} - 2 \\, Y^{2} x^{2} z + Y x^{2} - 2 \\, Y x z - Y - 2 \\, x + 2\\right)} {\\left(Y^{3} x y^{2} + Y^{3} x y z - Y^{2} x y - Y y + 1\\right)}}\\)</html>"
      ],
      "text/latex": [
       "$\\displaystyle \\verb|Denef|\\verb| |\\verb|&|\\verb| |\\verb|Lipshitz|\\verb| |\\verb|Embedding:| \\frac{{\\left(Y^{4} x^{2} z^{2} - 2 \\, Y^{3} x^{2} z + 2 \\, Y^{3} x y + Y^{3} x z + Y^{2} x^{2} - 2 \\, Y^{2} x y - 3 \\, Y^{2} x z - Y^{2} x - Y x - Y + 2\\right)} Y y}{{\\left(Y^{3} x^{2} z^{2} - 2 \\, Y^{2} x^{2} z + Y x^{2} - 2 \\, Y x z - Y - 2 \\, x + 2\\right)} {\\left(Y^{3} x y^{2} + Y^{3} x y z - Y^{2} x y - Y y + 1\\right)}}$"
      ],
      "text/plain": [
       "'Denef & Lipshitz Embedding: ' (Y^4*x^2*z^2 - 2*Y^3*x^2*z + 2*Y^3*x*y + Y^3*x*z + Y^2*x^2 - 2*Y^2*x*y - 3*Y^2*x*z - Y^2*x - Y*x - Y + 2)*Y*y/((Y^3*x^2*z^2 - 2*Y^2*x^2*z + Y*x^2 - 2*Y*x*z - Y - 2*x + 2)*(Y^3*x*y^2 + Y^3*x*y*z - Y^2*x*y - Y*y + 1))"
      ]
     },
     "metadata": {},
     "output_type": "display_data"
    },
    {
     "data": {
      "text/html": [
       "<html>\\(\\displaystyle \\verb|Safonov|\\verb| |\\verb|Rational|\\verb| |\\verb|Embedding:| \\frac{2 \\, Y^{7} x y^{4} - 2 \\, {\\left(Y^{6} - Y^{5}\\right)} x y^{3} - {\\left(Y^{4} x + 2 \\, Y^{4}\\right)} y^{2} + {\\left(2 \\, Y^{3} - Y^{2}\\right)} y + {\\left(2 \\, Y^{8} x y^{4} + Y^{6} x y^{3}\\right)} z}{Y^{5} x y^{3} - {\\left(Y^{4} - 2 \\, Y^{3}\\right)} x y^{2} - {\\left(Y^{2} + {\\left(Y^{2} - Y\\right)} x\\right)} y + {\\left(Y^{6} x y^{3} + Y^{4} x y^{2}\\right)} z + Y - 1}\\)</html>"
      ],
      "text/latex": [
       "$\\displaystyle \\verb|Safonov|\\verb| |\\verb|Rational|\\verb| |\\verb|Embedding:| \\frac{2 \\, Y^{7} x y^{4} - 2 \\, {\\left(Y^{6} - Y^{5}\\right)} x y^{3} - {\\left(Y^{4} x + 2 \\, Y^{4}\\right)} y^{2} + {\\left(2 \\, Y^{3} - Y^{2}\\right)} y + {\\left(2 \\, Y^{8} x y^{4} + Y^{6} x y^{3}\\right)} z}{Y^{5} x y^{3} - {\\left(Y^{4} - 2 \\, Y^{3}\\right)} x y^{2} - {\\left(Y^{2} + {\\left(Y^{2} - Y\\right)} x\\right)} y + {\\left(Y^{6} x y^{3} + Y^{4} x y^{2}\\right)} z + Y - 1}$"
      ],
      "text/plain": [
       "'Safonov Rational Embedding: ' (2*Y^7*x*y^4 - 2*(Y^6 - Y^5)*x*y^3 - (Y^4*x + 2*Y^4)*y^2 + (2*Y^3 - Y^2)*y + (2*Y^8*x*y^4 + Y^6*x*y^3)*z)/(Y^5*x*y^3 - (Y^4 - 2*Y^3)*x*y^2 - (Y^2 + (Y^2 - Y)*x)*y + (Y^6*x*y^3 + Y^4*x*y^2)*z + Y - 1)"
      ]
     },
     "metadata": {},
     "output_type": "display_data"
    },
    {
     "data": {
      "text/html": [
       "<html>\\(\\displaystyle \\verb|A:| \\left(\\begin{array}{rrr}\n",
       "1 & 0 & 0 \\\\\n",
       "1 & 1 & 1 \\\\\n",
       "0 & 0 & 1\n",
       "\\end{array}\\right)\\)</html>"
      ],
      "text/latex": [
       "$\\displaystyle \\verb|A:| \\left(\\begin{array}{rrr}\n",
       "1 & 0 & 0 \\\\\n",
       "1 & 1 & 1 \\\\\n",
       "0 & 0 & 1\n",
       "\\end{array}\\right)$"
      ],
      "text/plain": [
       "'A: ' [1 0 0]\n",
       "[1 1 1]\n",
       "[0 0 1]"
      ]
     },
     "metadata": {},
     "output_type": "display_data"
    }
   ],
   "source": [
    "ratDL = embed_algebraic_DL(P, Q=Q, W=W, Y=Y)\n",
    "ratSaf, A = embed_algebraic_Safonov(P, terms, Y=Y)\n",
    "show(\"Denef & Lipshitz Embedding: \", ratDL)\n",
    "show(\"Safonov Rational Embedding: \", ratSaf)\n",
    "show(\"A: \", A)"
   ]
  },
  {
   "cell_type": "code",
   "execution_count": null,
   "id": "67e71631-6bf4-4092-bd12-e42131727bef",
   "metadata": {},
   "outputs": [],
   "source": []
  }
 ],
 "metadata": {
  "kernelspec": {
   "display_name": "SageMath 10.2",
   "language": "sage",
   "name": "sagemath-10.2"
  },
  "language_info": {
   "codemirror_mode": {
    "name": "ipython",
    "version": 3
   },
   "file_extension": ".py",
   "mimetype": "text/x-python",
   "name": "python",
   "nbconvert_exporter": "python",
   "pygments_lexer": "ipython3",
   "version": "3.11.1"
  }
 },
 "nbformat": 4,
 "nbformat_minor": 5
}
